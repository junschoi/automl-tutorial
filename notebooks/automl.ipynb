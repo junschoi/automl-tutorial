{
 "cells": [
  {
   "cell_type": "markdown",
   "source": [
    "Written by Jun Choi · 2021-08-09 10:22.\r\n",
    "\r\n",
    "# Introduction\r\n",
    "In this notebook, you will learn how to set up an AutoML training run with the Azure Machine Learning Python SDK. AutoML automatically picks an algorithm and hyperparameters for you and generates a model ready for deployment. \r\n",
    "\r\n",
    "# Prerequisites\r\n",
    "- [Azure Machine Learning workspace](https://docs.microsoft.com/en-us/azure/machine-learning/how-to-manage-workspace?tabs=python).\r\n",
    "- [Azure Machine Learning Python SDK.](https://docs.microsoft.com/en-us/python/api/overview/azure/ml/install?view=azure-ml-py#default-install)\r\n",
    "\r\n",
    "> **WARNING**: Python 3.8+ is not compatible with `automl`. Recommended for this tutorial: Python 3.7.9.\r\n",
    "\r\n",
    "Required package installations:\r\n",
    "\r\n",
    "```\r\n",
    "pip install azureml-core==1.32.0\r\n",
    "pip install azureml-train-automl==1.32.0\r\n",
    "pip install azureml-automl-runtime==1.32.0\r\n",
    "pip install onnxruntime==1.8.0\r\n",
    "```\r\n",
    "\r\n",
    "Alternatively, you can just run:\r\n",
    "\r\n",
    "```\r\n",
    "pip install requirements.txt\r\n",
    "```\r\n",
    "\r\n",
    "# Data source\r\n",
    "This notebook uses the Auto MPG Dataset from [UCI Machine Learning Repository](https://archive.ics.uci.edu/ml/index.php) and builds a model to predict the fuel efficiency (MPG) of late-1970s and early-1980s automobiles.\r\n",
    "\r\n",
    "# References\r\n",
    "- https://docs.microsoft.com/en-us/azure/machine-learning/how-to-configure-auto-train\r\n",
    "- https://docs.microsoft.com/en-us/azure/machine-learning/tutorial-auto-train-models\r\n",
    "- https://github.com/Azure/MachineLearningNotebooks/blob/master/how-to-use-azureml/automated-machine-learning/classification-bank-marketing-all-features/auto-ml-classification-bank-marketing-all-features.ipynb"
   ],
   "metadata": {}
  },
  {
   "cell_type": "markdown",
   "source": [
    "# Preprocess dataset\r\n",
    "The following code downloads and imports the Auto MPG Dataset using pandas. The dataset drops null value rows and converts \"Origin\" column to categorical column. There is no need to one-hot encode categorical columns or scale numerical columns since AutoML takes care of scaling and one-hot encoding.   "
   ],
   "metadata": {}
  },
  {
   "cell_type": "code",
   "execution_count": null,
   "source": [
    "import pandas as pd\r\n",
    "from sklearn.model_selection import train_test_split\r\n",
    "\r\n",
    "url = 'http://archive.ics.uci.edu/ml/machine-learning-databases/auto-mpg/auto-mpg.data'\r\n",
    "column_names = ['MPG', 'Cylinders', 'Displacement', 'Horsepower', 'Weight',\r\n",
    "                'Acceleration', 'Model Year', 'Origin']\r\n",
    "\r\n",
    "raw_dataset = pd.read_csv(url, names=column_names,\r\n",
    "                          na_values='?', comment='\\t',\r\n",
    "                          sep=' ', skipinitialspace=True)\r\n",
    "\r\n",
    "dataset = raw_dataset.copy()\r\n",
    "dataset = dataset.dropna()\r\n",
    "dataset['Origin'] = dataset['Origin'].map({1: 'USA', 2: 'Europe', 3: 'Japan'})\r\n",
    "dataset.to_csv('../data/autompg.csv', index=False)\r\n",
    "\r\n",
    "train, test = train_test_split(dataset, random_state=42, test_size=0.2)\r\n",
    "train.to_csv('../data/autompg_train.csv', index=False)\r\n",
    "test.to_csv('../data/autompg_test.csv', index=False)"
   ],
   "outputs": [],
   "metadata": {}
  },
  {
   "cell_type": "markdown",
   "source": [
    "# Initialize workspace and datastore\r\n",
    "\r\n",
    "The following code creates a Workspace object using `config.json` file which can be downloaded from Azure Machine Learning studio website (Begins with https://ml.azure.com/). Place the downloaded `config.json` file in the same directory as this notebook.\r\n",
    "\r\n",
    "![config.json](../assets/config_json.png)"
   ],
   "metadata": {}
  },
  {
   "cell_type": "code",
   "execution_count": null,
   "source": [
    "from azureml.core import Workspace\r\n",
    "\r\n",
    "ws = Workspace.from_config()\r\n",
    "datastore = ws.get_default_datastore()"
   ],
   "outputs": [],
   "metadata": {}
  },
  {
   "cell_type": "markdown",
   "source": [
    "# Configure compute cluster\r\n",
    "\r\n",
    "[Learn more about compute targets and clusters in Azure Machine Learning.](https://docs.microsoft.com/en-us/azure/machine-learning/concept-compute-target)"
   ],
   "metadata": {}
  },
  {
   "cell_type": "code",
   "execution_count": null,
   "source": [
    "from azureml.core.compute import AmlCompute, ComputeTarget\r\n",
    "from azureml.core.compute_target import ComputeTargetException\r\n",
    "\r\n",
    "cluster_name = 'AMLCluster'\r\n",
    "\r\n",
    "try:\r\n",
    "    compute_target = ComputeTarget(workspace=ws, name=cluster_name)\r\n",
    "    print('Found existing cluster, using it.')\r\n",
    "except ComputeTargetException:\r\n",
    "    print('Cluster not found, creating new 6 node STANDARD_D2_V2.')\r\n",
    "    compute_config = AmlCompute.provisioning_configuration(\r\n",
    "        vm_size='STANDARD_D2_V2', max_nodes=6\r\n",
    "    )\r\n",
    "    compute_target = ComputeTarget.create(\r\n",
    "        workspace=ws,\r\n",
    "        name=cluster_name,\r\n",
    "        provisioning_configuration=compute_config,\r\n",
    "    )\r\n",
    "compute_target.wait_for_completion(show_output=True)"
   ],
   "outputs": [],
   "metadata": {}
  },
  {
   "cell_type": "markdown",
   "source": [
    "# Configure the training run\r\n",
    "\r\n",
    "The runtime is set by creating adn configuring `RunConfiguration` object. Here we set the compute target."
   ],
   "metadata": {
    "pycharm": {
     "name": "#%% md\n"
    }
   }
  },
  {
   "cell_type": "code",
   "execution_count": null,
   "source": [
    "from azureml.core.runconfig import RunConfiguration\r\n",
    "\r\n",
    "aml_run_config = RunConfiguration()\r\n",
    "aml_run_config.target = compute_target"
   ],
   "outputs": [],
   "metadata": {
    "collapsed": false,
    "pycharm": {
     "name": "#%%\n"
    }
   }
  },
  {
   "cell_type": "markdown",
   "source": [
    "# Uploading train to datastore and registering dataset\r\n",
    "\r\n",
    "Automated machine learning supports data that resides on your local desktop or in the cloud such as Azure Blob Storage. The data can be read into a Pandas DataFrame or an Azure Machine Learning TabularDataset.\r\n",
    "\r\n",
    "Requirements for training data in machine learning:\r\n",
    "- Data must be in tabular form.\r\n",
    "- The value to predict, target column, must be in the data.\r\n",
    "\r\n",
    "For remote experiments, training data must be accessible from the remote compute. ***Automated ML only accepts Azure Machine Learning `TabularDatasets` when working on a remote compute.***"
   ],
   "metadata": {}
  },
  {
   "cell_type": "code",
   "execution_count": null,
   "source": [
    "from azureml.core import Dataset\r\n",
    "\r\n",
    "file_path = '../data/autompg_train.csv'\r\n",
    "datastore.upload_files(\r\n",
    "    files=[file_path],\r\n",
    "    target_path='workspaceblobstore',\r\n",
    "    overwrite=True,\r\n",
    "    show_progress=True\r\n",
    ")\r\n",
    "\r\n",
    "\r\n",
    "datastore_path = 'workspaceblobstore/autompg_train.csv'\r\n",
    "ds_path = [(datastore, datastore_path)]\r\n",
    "ds_tab = Dataset.Tabular.from_delimited_files(path=ds_path)\r\n",
    "try:\r\n",
    "    ds_tab.register(workspace=ws, name='autompg_train', description=None)\r\n",
    "    print('Registered data successfully.')\r\n",
    "except:\r\n",
    "    print('Data not registered.')"
   ],
   "outputs": [],
   "metadata": {}
  },
  {
   "cell_type": "markdown",
   "source": [
    "# Configure experiment settings\r\n",
    "\r\n",
    "There are several options that you can use to configure your automated ML experiment. These parameters are set by instantiating an `AutoMLConfig` object. See the [`AutoMLConfig` class](https://docs.microsoft.com/en-us/python/api/azureml-train-automl-client/azureml.train.automl.automlconfig.automlconfig?view=azure-ml-py) for a full list of parameters."
   ],
   "metadata": {}
  },
  {
   "cell_type": "code",
   "execution_count": null,
   "source": [
    "from azureml.train.automl import AutoMLConfig\r\n",
    "\r\n",
    "automl_settings = {\r\n",
    "    'experiment_timeout_hours': 0.5,\r\n",
    "    'iterations': 5,\r\n",
    "    'label_column_name': 'MPG',\r\n",
    "    'iteration_timeout_minutes': 5,\r\n",
    "    'max_concurrent_iterations': 4,\r\n",
    "    'max_cores_per_iteration': -1,\r\n",
    "    'primary_metric': 'normalized_root_mean_squared_error',\r\n",
    "    'track_child_runs': True,\r\n",
    "}\r\n",
    "\r\n",
    "automl_config = AutoMLConfig(\r\n",
    "    task='regression',\r\n",
    "    compute_target=compute_target,\r\n",
    "    featurization='auto',\r\n",
    "    training_data=ds_tab,\r\n",
    "    enable_onnx_compatible_models=True,\r\n",
    "    **automl_settings\r\n",
    ")"
   ],
   "outputs": [],
   "metadata": {}
  },
  {
   "cell_type": "markdown",
   "source": [
    "# Run experiment\r\n",
    "\r\n",
    "For AutoML, you create an `Experiment` object, which is a named object in a `Workspace` used to run experiments."
   ],
   "metadata": {}
  },
  {
   "cell_type": "code",
   "execution_count": null,
   "source": [
    "from azureml.core import Experiment\r\n",
    "\r\n",
    "experiment_name = 'automl-tutorial'\r\n",
    "experiment = Experiment(ws, experiment_name)\r\n",
    "run = experiment.submit(automl_config, show_output=False)\r\n",
    "run.wait_for_completion()"
   ],
   "outputs": [],
   "metadata": {}
  },
  {
   "cell_type": "markdown",
   "source": [
    "# Save the best ONNX model and ONNX resource json file\r\n",
    "\r\n",
    "The following code saves the best model from the completed AutoML run as an ONNX file and saves `onnx_resource.json` file which is used with `OnnxInferenceHelper`."
   ],
   "metadata": {}
  },
  {
   "cell_type": "code",
   "execution_count": null,
   "source": [
    "from azureml.automl.runtime.onnx_convert import OnnxConverter\r\n",
    "from azureml.train.automl import constants\r\n",
    "\r\n",
    "best_run, best_model = run.get_output(return_onnx_model=True)\r\n",
    "\r\n",
    "onnx_path = '../data/best_model.onnx'\r\n",
    "OnnxConverter.save_onnx_model(best_model, onnx_path)\r\n",
    "\r\n",
    "output_file_path = '../data/onnx_resource.json'\r\n",
    "best_run.download_file(constants.MODEL_RESOURCE_PATH_ONNX, output_file_path=output_file_path)"
   ],
   "outputs": [],
   "metadata": {}
  },
  {
   "cell_type": "markdown",
   "source": [
    "# Predict with the ONNX model, using onnxruntime package\r\n",
    "\r\n",
    "We will be calculating mean absolute error and mean squared error to evalute the model. These two metrics are common loss functions used for regression problems. Mean absolute error is less sensitive to outliers."
   ],
   "metadata": {}
  },
  {
   "cell_type": "code",
   "execution_count": null,
   "source": [
    "import sys\r\n",
    "import json\r\n",
    "import onnx\r\n",
    "\r\n",
    "from azureml.automl.core.onnx_convert.onnx_convert_constants import OnnxConvertConstants\r\n",
    "from azureml.automl.runtime.onnx_convert import OnnxInferenceHelper\r\n",
    "from sklearn.metrics import mean_absolute_error, mean_squared_error\r\n",
    "\r\n",
    "if sys.version_info < OnnxConvertConstants.OnnxIncompatiblePythonVersion:\r\n",
    "    python_version_compatible = True\r\n",
    "else:\r\n",
    "    python_version_compatible = False\r\n",
    "\r\n",
    "if python_version_compatible:\r\n",
    "    with open(output_file_path) as f:\r\n",
    "        onnx_res = json.load(f)\r\n",
    "    data = pd.read_csv('../data/autompg_test.csv')\r\n",
    "    onnx_model = onnx.load(onnx_path)\r\n",
    "    mdl_bytes = onnx_model.SerializeToString()\r\n",
    "    onnxrt_helper = OnnxInferenceHelper(mdl_bytes, onnx_res)\r\n",
    "    pred_onnx, pred_prob_onnx = onnxrt_helper.predict(data)\r\n",
    "\r\n",
    "y_true = test['MPG']\r\n",
    "print('MAE (Test): {:0.4f}'.format(mean_absolute_error(y_true, pred_onnx)))  # 2.0110\r\n",
    "print('MSE (Test): {:0.4f}'.format(mean_squared_error(y_true, pred_onnx)))  # 7.3687"
   ],
   "outputs": [],
   "metadata": {}
  }
 ],
 "metadata": {
  "orig_nbformat": 4,
  "language_info": {
   "name": "python",
   "version": "3.7.9",
   "mimetype": "text/x-python",
   "codemirror_mode": {
    "name": "ipython",
    "version": 3
   },
   "pygments_lexer": "ipython3",
   "nbconvert_exporter": "python",
   "file_extension": ".py"
  },
  "kernelspec": {
   "name": "python3",
   "display_name": "Python 3.7.9 64-bit ('3.7.9': pyenv)"
  },
  "interpreter": {
   "hash": "cea40afeb78b127097ee39f3ded296d7f864940f93a168c274b3bce63446fd29"
  }
 },
 "nbformat": 4,
 "nbformat_minor": 2
}